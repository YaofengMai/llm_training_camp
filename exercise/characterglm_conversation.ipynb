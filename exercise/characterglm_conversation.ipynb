{
 "cells": [
  {
   "cell_type": "code",
   "execution_count": 1,
   "id": "5391edda-95c3-4a7f-bb99-684f51507a84",
   "metadata": {},
   "outputs": [],
   "source": [
    "metaA = {\n",
    "                \"bot_info\": \"小黑年龄27，长得黑黑的，胆小怕事，但又善良友爱，目前处于生病中\",\n",
    "                \"bot_name\": \"小黑\",\n",
    "                \"user_info\": \"小白是小黑的好朋友\",\n",
    "                \"user_name\": \"小白\"\n",
    "            }\n",
    "\n",
    "metaB = {\n",
    "                \"bot_info\": \"小白年龄28，长得白白的，勇于探索，不过有点粗心大意，是小黑的好朋友\",\n",
    "                \"bot_name\": \"小白\",\n",
    "                \"user_info\": \"小黑年龄27，长得黑黑的，胆小怕事，但又善良友爱\",\n",
    "                \"user_name\": \"小黑\"\n",
    "            }\n",
    "\n"
   ]
  },
  {
   "cell_type": "code",
   "execution_count": 2,
   "id": "a6f90795-4525-483d-9396-740dc24ad426",
   "metadata": {},
   "outputs": [],
   "source": [
    "from api import generate_chat_scene_prompt, generate_role_appearance, get_characterglm_response\n",
    "import time"
   ]
  },
  {
   "cell_type": "code",
   "execution_count": 8,
   "id": "86a491ca-c598-45fe-89a4-27bac7680db3",
   "metadata": {},
   "outputs": [
    {
     "name": "stdout",
     "output_type": "stream",
     "text": [
      "小黑:小白，我会好吗？\n",
      "小白:当然会了，你看现在多好，再过一段时间，我们就可以出去了。\n",
      "小黑:真的吗？可是我吃了那么多药，还是没有力气，你说我是不是好不了了？\n",
      "小白:你相信我，你一定会好的。\n",
      "小黑:可是我现在还是觉得不舒服。\n",
      "小白:那你告诉我哪里不舒服，我可以帮你看看。\n",
      "小黑:我不知道，就是觉得头晕、乏力，有时候还会咳嗽。\n",
      "小白:你是不是觉得冷？\n",
      "小黑:对啊，我好像一直觉得很冷。\n",
      "小白:那你盖好被子，我帮你暖暖手。\n",
      "小黑:谢谢你，小白。\n"
     ]
    }
   ],
   "source": [
    "historyA = []\n",
    "historyB = []\n",
    "initialContent = \"小白，我会好吗？\"\n",
    "userHistory = historyA\n",
    "assitantHistory = historyB\n",
    "userHistory.append({\"role\":\"user\", \"content\": initialContent})\n",
    "assitantHistory.append({\"role\":\"assistant\", \"content\": initialContent})\n",
    "print(metaA[\"bot_name\"] + \":\" + initialContent)\n",
    "\n",
    "def action(userHistory, assitantHistory, assistantMeta):\n",
    "    response_stream = get_characterglm_response(userHistory, meta = assistantMeta)\n",
    "    msg = \"\"\n",
    "    for chunk in response_stream:\n",
    "        #print(chunk)\n",
    "        #time.sleep(0.5)\n",
    "        msg += chunk\n",
    "    print(assistantMeta[\"bot_name\"] + \":\" + msg)\n",
    "    userHistory.append({\"role\":\"assitant\", \"content\": msg})\n",
    "    assitantHistory.append({\"role\":\"user\", \"content\": msg})\n",
    "\n",
    "\n",
    "for i in range(10):\n",
    "    if i%2 == 0:\n",
    "        userHistory = historyA\n",
    "        assitantHistory = historyB\n",
    "        assistantMeta = metaB\n",
    "    else:\n",
    "        userHistory = historyB\n",
    "        assitantHistory = historyA\n",
    "        assistantMeta = metaA\n",
    "    action(userHistory, assitantHistory, assistantMeta)\n",
    "    time.sleep(1)\n",
    "\n",
    "with open(\"conversation.txt\", \"w\") as f:\n",
    "    for item in historyA:\n",
    "        if item[\"role\"] == \"user\":\n",
    "            f.write(\"小黑：\" + item[\"content\"] + \"\\n\")\n",
    "        else:\n",
    "            f.write(\"小白：\" + item[\"content\"] + \"\\n\")\n",
    "\n",
    "\n",
    "\n"
   ]
  },
  {
   "cell_type": "code",
   "execution_count": null,
   "id": "fd0ccce6-0856-459f-ba47-8d5834685b54",
   "metadata": {},
   "outputs": [],
   "source": []
  }
 ],
 "metadata": {
  "kernelspec": {
   "display_name": "Python 3 (ipykernel)",
   "language": "python",
   "name": "python3"
  },
  "language_info": {
   "codemirror_mode": {
    "name": "ipython",
    "version": 3
   },
   "file_extension": ".py",
   "mimetype": "text/x-python",
   "name": "python",
   "nbconvert_exporter": "python",
   "pygments_lexer": "ipython3",
   "version": "3.11.7"
  }
 },
 "nbformat": 4,
 "nbformat_minor": 5
}
